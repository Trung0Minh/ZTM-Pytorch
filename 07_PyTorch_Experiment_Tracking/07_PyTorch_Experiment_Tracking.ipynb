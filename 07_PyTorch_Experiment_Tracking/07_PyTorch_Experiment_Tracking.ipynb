{
 "cells": [
  {
   "cell_type": "code",
   "execution_count": 13,
   "metadata": {},
   "outputs": [],
   "source": [
    "import torch\n",
    "import torchvision\n",
    "import matplotlib.pyplot as plt\n",
    "from torchvision import transforms\n",
    "from torchinfo import summary\n",
    "from going_modular import data_setup, engine"
   ]
  },
  {
   "cell_type": "code",
   "execution_count": 14,
   "metadata": {},
   "outputs": [
    {
     "data": {
      "text/plain": [
       "'cuda'"
      ]
     },
     "execution_count": 14,
     "metadata": {},
     "output_type": "execute_result"
    }
   ],
   "source": [
    "device = \"cuda\" if torch.cuda.is_available() else \"cpu\"\n",
    "device"
   ]
  },
  {
   "cell_type": "code",
   "execution_count": 15,
   "metadata": {},
   "outputs": [],
   "source": [
    "# Set seeds\n",
    "def set_seeds(seed: int=42):\n",
    "    \"\"\"Sets random sets for torch operations.\n",
    "\n",
    "    Args:\n",
    "        seed (int, optional): Random seed to set. Defaults to 42.\n",
    "    \"\"\"\n",
    "    # Set the seed for general torch operations\n",
    "    torch.manual_seed(seed)\n",
    "    # Set the seed for CUDA torch operations (ones that happen on the GPU)\n",
    "    torch.cuda.manual_seed(seed)"
   ]
  },
  {
   "cell_type": "code",
   "execution_count": 16,
   "metadata": {},
   "outputs": [
    {
     "name": "stdout",
     "output_type": "stream",
     "text": [
      "Overwriting going_modular/download_data.py\n"
     ]
    }
   ],
   "source": [
    "%%writefile going_modular/download_data.py\n",
    "\n",
    "import os\n",
    "import zipfile\n",
    "\n",
    "from pathlib import Path\n",
    "\n",
    "import requests\n",
    "\n",
    "def download_data(source: str, \n",
    "                  destination: str,\n",
    "                  remove_source: bool = True) -> Path:\n",
    "    \"\"\"Downloads a zipped dataset from source and unzips to destination.\n",
    "\n",
    "    Args:\n",
    "        source (str): A link to a zipped file containing data.\n",
    "        destination (str): A target directory to unzip data to.\n",
    "        remove_source (bool): Whether to remove the source after downloading and extracting.\n",
    "    \n",
    "    Returns:\n",
    "        pathlib.Path to downloaded data.\n",
    "    \n",
    "    Example usage:\n",
    "        download_data(source=\"https://github.com/mrdbourke/pytorch-deep-learning/raw/main/data/pizza_steak_sushi.zip\",\n",
    "                      destination=\"pizza_steak_sushi\")\n",
    "    \"\"\"\n",
    "    # Setup path to data folder\n",
    "    data_path = Path(\"data/\")\n",
    "    image_path = data_path / destination\n",
    "\n",
    "    # If the image folder doesn't exist, download it and prepare it... \n",
    "    if image_path.is_dir():\n",
    "        print(f\"[INFO] {image_path} directory exists, skipping download.\")\n",
    "    else:\n",
    "        print(f\"[INFO] Did not find {image_path} directory, creating one...\")\n",
    "        image_path.mkdir(parents=True, exist_ok=True)\n",
    "        \n",
    "        # Download pizza, steak, sushi data\n",
    "        target_file = Path(source).name\n",
    "        with open(data_path / target_file, \"wb\") as f:\n",
    "            request = requests.get(source)\n",
    "            print(f\"[INFO] Downloading {target_file} from {source}...\")\n",
    "            f.write(request.content)\n",
    "\n",
    "        # Unzip pizza, steak, sushi data\n",
    "        with zipfile.ZipFile(data_path / target_file, \"r\") as zip_ref:\n",
    "            print(f\"[INFO] Unzipping {target_file} data...\") \n",
    "            zip_ref.extractall(image_path)\n",
    "\n",
    "        # Remove .zip file\n",
    "        if remove_source:\n",
    "            os.remove(data_path / target_file)\n",
    "    \n",
    "    return image_path"
   ]
  },
  {
   "cell_type": "code",
   "execution_count": 17,
   "metadata": {},
   "outputs": [
    {
     "name": "stdout",
     "output_type": "stream",
     "text": [
      "[INFO] data\\pizza_steak_sushi directory exists, skipping download.\n"
     ]
    },
    {
     "data": {
      "text/plain": [
       "WindowsPath('data/pizza_steak_sushi')"
      ]
     },
     "execution_count": 17,
     "metadata": {},
     "output_type": "execute_result"
    }
   ],
   "source": [
    "from going_modular import download_data\n",
    "\n",
    "image_path = download_data.download_data(source=\"https://github.com/mrdbourke/pytorch-deep-learning/raw/main/data/pizza_steak_sushi_20_percent.zip\",\n",
    "                           destination=\"pizza_steak_sushi\")\n",
    "image_path"
   ]
  },
  {
   "cell_type": "code",
   "execution_count": 18,
   "metadata": {},
   "outputs": [],
   "source": [
    "train_dir = image_path / 'train'\n",
    "test_dir = image_path / 'test'"
   ]
  },
  {
   "cell_type": "code",
   "execution_count": 19,
   "metadata": {},
   "outputs": [
    {
     "data": {
      "text/plain": [
       "(<torch.utils.data.dataloader.DataLoader at 0x23ea5abe090>,\n",
       " <torch.utils.data.dataloader.DataLoader at 0x23ea5abd0d0>,\n",
       " ['pizza', 'steak', 'sushi'])"
      ]
     },
     "execution_count": 19,
     "metadata": {},
     "output_type": "execute_result"
    }
   ],
   "source": [
    "import os\n",
    "\n",
    "normalize = transforms.Normalize(mean=[0.485, 0.456, 0.406],\n",
    "                                 std=[0.229, 0.224, 0.225])\n",
    "\n",
    "manual_transforms = transforms.Compose([\n",
    "    transforms.Resize((224, 224)),\n",
    "    transforms.ToTensor(),\n",
    "    normalize\n",
    "])\n",
    "\n",
    "train_dataloader, test_dataloader, class_names = data_setup.create_dataloaders(\n",
    "    train_dir=train_dir,\n",
    "    test_dir=test_dir,\n",
    "    transform=manual_transforms, # use manually created transforms\n",
    "    batch_size=32,\n",
    "    num_workers=os.cpu_count()\n",
    ")\n",
    "\n",
    "train_dataloader, test_dataloader, class_names"
   ]
  },
  {
   "cell_type": "code",
   "execution_count": 20,
   "metadata": {},
   "outputs": [
    {
     "data": {
      "text/plain": [
       "(<torch.utils.data.dataloader.DataLoader at 0x23ea5abd520>,\n",
       " <torch.utils.data.dataloader.DataLoader at 0x23ea5bd46e0>,\n",
       " ['pizza', 'steak', 'sushi'])"
      ]
     },
     "execution_count": 20,
     "metadata": {},
     "output_type": "execute_result"
    }
   ],
   "source": [
    "weights = torchvision.models.EfficientNet_B3_Weights.DEFAULT\n",
    "\n",
    "automatic_transforms = weights.transforms()\n",
    "\n",
    "train_dataloader, test_dataloader, class_names = data_setup.create_dataloaders(\n",
    "    train_dir=train_dir,\n",
    "    test_dir=test_dir,\n",
    "    transform=automatic_transforms, # use automatic created transforms\n",
    "    batch_size=32,\n",
    "    num_workers=os.cpu_count()\n",
    ")\n",
    "\n",
    "train_dataloader, test_dataloader, class_names"
   ]
  },
  {
   "cell_type": "code",
   "execution_count": 21,
   "metadata": {},
   "outputs": [
    {
     "data": {
      "text/plain": [
       "(ImageClassification(\n",
       "     crop_size=[300]\n",
       "     resize_size=[320]\n",
       "     mean=[0.485, 0.456, 0.406]\n",
       "     std=[0.229, 0.224, 0.225]\n",
       "     interpolation=InterpolationMode.BICUBIC\n",
       " ),\n",
       " Compose(\n",
       "     Resize(size=(224, 224), interpolation=bilinear, max_size=None, antialias=True)\n",
       "     ToTensor()\n",
       "     Normalize(mean=[0.485, 0.456, 0.406], std=[0.229, 0.224, 0.225])\n",
       " ))"
      ]
     },
     "execution_count": 21,
     "metadata": {},
     "output_type": "execute_result"
    }
   ],
   "source": [
    "automatic_transforms, manual_transforms"
   ]
  },
  {
   "cell_type": "code",
   "execution_count": 22,
   "metadata": {},
   "outputs": [],
   "source": [
    "model = torchvision.models.efficientnet_b3(weights=weights).to(device)"
   ]
  },
  {
   "cell_type": "code",
   "execution_count": 23,
   "metadata": {},
   "outputs": [
    {
     "data": {
      "text/plain": [
       "Sequential(\n",
       "  (0): Dropout(p=0.2, inplace=True)\n",
       "  (1): Linear(in_features=1536, out_features=3, bias=True)\n",
       ")"
      ]
     },
     "execution_count": 23,
     "metadata": {},
     "output_type": "execute_result"
    }
   ],
   "source": [
    "from torch import nn\n",
    "\n",
    "for param in model.features.parameters():\n",
    "    param.requires_grad = False\n",
    "    \n",
    "#set_seeds()\n",
    "\n",
    "model.classifier = nn.Sequential(\n",
    "    nn.Dropout(p=0.2, inplace=True),\n",
    "    nn.Linear(in_features=1536, \n",
    "              out_features=len(class_names),\n",
    "              bias=True).to(device)\n",
    "    )\n",
    "model.classifier"
   ]
  },
  {
   "cell_type": "code",
   "execution_count": 24,
   "metadata": {},
   "outputs": [
    {
     "data": {
      "text/plain": [
       "============================================================================================================================================\n",
       "Layer (type (var_name))                                      Input Shape          Output Shape         Param #              Trainable\n",
       "============================================================================================================================================\n",
       "EfficientNet (EfficientNet)                                  [32, 3, 300, 300]    [32, 3]              --                   Partial\n",
       "├─Sequential (features)                                      [32, 3, 300, 300]    [32, 1536, 10, 10]   --                   False\n",
       "│    └─Conv2dNormActivation (0)                              [32, 3, 300, 300]    [32, 40, 150, 150]   --                   False\n",
       "│    │    └─Conv2d (0)                                       [32, 3, 300, 300]    [32, 40, 150, 150]   (1,080)              False\n",
       "│    │    └─BatchNorm2d (1)                                  [32, 40, 150, 150]   [32, 40, 150, 150]   (80)                 False\n",
       "│    │    └─SiLU (2)                                         [32, 40, 150, 150]   [32, 40, 150, 150]   --                   --\n",
       "│    └─Sequential (1)                                        [32, 40, 150, 150]   [32, 24, 150, 150]   --                   False\n",
       "│    │    └─MBConv (0)                                       [32, 40, 150, 150]   [32, 24, 150, 150]   (2,298)              False\n",
       "│    │    └─MBConv (1)                                       [32, 24, 150, 150]   [32, 24, 150, 150]   (1,206)              False\n",
       "│    └─Sequential (2)                                        [32, 24, 150, 150]   [32, 32, 75, 75]     --                   False\n",
       "│    │    └─MBConv (0)                                       [32, 24, 150, 150]   [32, 32, 75, 75]     (11,878)             False\n",
       "│    │    └─MBConv (1)                                       [32, 32, 75, 75]     [32, 32, 75, 75]     (18,120)             False\n",
       "│    │    └─MBConv (2)                                       [32, 32, 75, 75]     [32, 32, 75, 75]     (18,120)             False\n",
       "│    └─Sequential (3)                                        [32, 32, 75, 75]     [32, 48, 38, 38]     --                   False\n",
       "│    │    └─MBConv (0)                                       [32, 32, 75, 75]     [32, 48, 38, 38]     (24,296)             False\n",
       "│    │    └─MBConv (1)                                       [32, 48, 38, 38]     [32, 48, 38, 38]     (43,308)             False\n",
       "│    │    └─MBConv (2)                                       [32, 48, 38, 38]     [32, 48, 38, 38]     (43,308)             False\n",
       "│    └─Sequential (4)                                        [32, 48, 38, 38]     [32, 96, 19, 19]     --                   False\n",
       "│    │    └─MBConv (0)                                       [32, 48, 38, 38]     [32, 96, 19, 19]     (52,620)             False\n",
       "│    │    └─MBConv (1)                                       [32, 96, 19, 19]     [32, 96, 19, 19]     (146,520)            False\n",
       "│    │    └─MBConv (2)                                       [32, 96, 19, 19]     [32, 96, 19, 19]     (146,520)            False\n",
       "│    │    └─MBConv (3)                                       [32, 96, 19, 19]     [32, 96, 19, 19]     (146,520)            False\n",
       "│    │    └─MBConv (4)                                       [32, 96, 19, 19]     [32, 96, 19, 19]     (146,520)            False\n",
       "│    └─Sequential (5)                                        [32, 96, 19, 19]     [32, 136, 19, 19]    --                   False\n",
       "│    │    └─MBConv (0)                                       [32, 96, 19, 19]     [32, 136, 19, 19]    (178,856)            False\n",
       "│    │    └─MBConv (1)                                       [32, 136, 19, 19]    [32, 136, 19, 19]    (302,226)            False\n",
       "│    │    └─MBConv (2)                                       [32, 136, 19, 19]    [32, 136, 19, 19]    (302,226)            False\n",
       "│    │    └─MBConv (3)                                       [32, 136, 19, 19]    [32, 136, 19, 19]    (302,226)            False\n",
       "│    │    └─MBConv (4)                                       [32, 136, 19, 19]    [32, 136, 19, 19]    (302,226)            False\n",
       "│    └─Sequential (6)                                        [32, 136, 19, 19]    [32, 232, 10, 10]    --                   False\n",
       "│    │    └─MBConv (0)                                       [32, 136, 19, 19]    [32, 232, 10, 10]    (380,754)            False\n",
       "│    │    └─MBConv (1)                                       [32, 232, 10, 10]    [32, 232, 10, 10]    (849,642)            False\n",
       "│    │    └─MBConv (2)                                       [32, 232, 10, 10]    [32, 232, 10, 10]    (849,642)            False\n",
       "│    │    └─MBConv (3)                                       [32, 232, 10, 10]    [32, 232, 10, 10]    (849,642)            False\n",
       "│    │    └─MBConv (4)                                       [32, 232, 10, 10]    [32, 232, 10, 10]    (849,642)            False\n",
       "│    │    └─MBConv (5)                                       [32, 232, 10, 10]    [32, 232, 10, 10]    (849,642)            False\n",
       "│    └─Sequential (7)                                        [32, 232, 10, 10]    [32, 384, 10, 10]    --                   False\n",
       "│    │    └─MBConv (0)                                       [32, 232, 10, 10]    [32, 384, 10, 10]    (1,039,258)          False\n",
       "│    │    └─MBConv (1)                                       [32, 384, 10, 10]    [32, 384, 10, 10]    (2,244,960)          False\n",
       "│    └─Conv2dNormActivation (8)                              [32, 384, 10, 10]    [32, 1536, 10, 10]   --                   False\n",
       "│    │    └─Conv2d (0)                                       [32, 384, 10, 10]    [32, 1536, 10, 10]   (589,824)            False\n",
       "│    │    └─BatchNorm2d (1)                                  [32, 1536, 10, 10]   [32, 1536, 10, 10]   (3,072)              False\n",
       "│    │    └─SiLU (2)                                         [32, 1536, 10, 10]   [32, 1536, 10, 10]   --                   --\n",
       "├─AdaptiveAvgPool2d (avgpool)                                [32, 1536, 10, 10]   [32, 1536, 1, 1]     --                   --\n",
       "├─Sequential (classifier)                                    [32, 1536]           [32, 3]              --                   True\n",
       "│    └─Dropout (0)                                           [32, 1536]           [32, 1536]           --                   --\n",
       "│    └─Linear (1)                                            [32, 1536]           [32, 3]              4,611                True\n",
       "============================================================================================================================================\n",
       "Total params: 10,700,843\n",
       "Trainable params: 4,611\n",
       "Non-trainable params: 10,696,232\n",
       "Total mult-adds (Units.GIGABYTES): 58.42\n",
       "============================================================================================================================================\n",
       "Input size (MB): 34.56\n",
       "Forward/backward pass size (MB): 12195.97\n",
       "Params size (MB): 42.80\n",
       "Estimated Total Size (MB): 12273.34\n",
       "============================================================================================================================================"
      ]
     },
     "execution_count": 24,
     "metadata": {},
     "output_type": "execute_result"
    }
   ],
   "source": [
    "summary(model, \n",
    "       input_size=(32, 3, 300, 300), # make sure this is \"input_size\", not \"input_shape\" (batch_size, color_channels, height, width)\n",
    "       verbose=0,\n",
    "       col_names=[\"input_size\", \"output_size\", \"num_params\", \"trainable\"],\n",
    "       col_width=20,\n",
    "       row_settings=[\"var_names\"])"
   ]
  },
  {
   "cell_type": "code",
   "execution_count": 25,
   "metadata": {},
   "outputs": [],
   "source": [
    "# Define loss and optimizer\n",
    "loss_fn = nn.CrossEntropyLoss()\n",
    "optimizer = torch.optim.Adam(model.parameters(), lr=0.01)"
   ]
  },
  {
   "cell_type": "code",
   "execution_count": 26,
   "metadata": {},
   "outputs": [],
   "source": [
    "from torch.utils.tensorboard import SummaryWriter\n",
    "\n",
    "writer = SummaryWriter()"
   ]
  },
  {
   "cell_type": "code",
   "execution_count": 27,
   "metadata": {},
   "outputs": [],
   "source": [
    "from typing import Dict, List\n",
    "from tqdm.auto import tqdm\n",
    "\n",
    "from going_modular.engine import train_step, test_step\n",
    "\n",
    "# Import train() function from: \n",
    "# https://github.com/mrdbourke/pytorch-deep-learning/blob/main/going_modular/going_modular/engine.py\n",
    "def train(model: torch.nn.Module, \n",
    "          train_dataloader: torch.utils.data.DataLoader, \n",
    "          test_dataloader: torch.utils.data.DataLoader, \n",
    "          optimizer: torch.optim.Optimizer,\n",
    "          loss_fn: torch.nn.Module,\n",
    "          epochs: int,\n",
    "          device: torch.device) -> Dict[str, List]:\n",
    "    \"\"\"Trains and tests a PyTorch model.\n",
    "\n",
    "    Passes a target PyTorch models through train_step() and test_step()\n",
    "    functions for a number of epochs, training and testing the model\n",
    "    in the same epoch loop.\n",
    "\n",
    "    Calculates, prints and stores evaluation metrics throughout.\n",
    "\n",
    "    Args:\n",
    "      model: A PyTorch model to be trained and tested.\n",
    "      train_dataloader: A DataLoader instance for the model to be trained on.\n",
    "      test_dataloader: A DataLoader instance for the model to be tested on.\n",
    "      optimizer: A PyTorch optimizer to help minimize the loss function.\n",
    "      loss_fn: A PyTorch loss function to calculate loss on both datasets.\n",
    "      epochs: An integer indicating how many epochs to train for.\n",
    "      device: A target device to compute on (e.g. \"cuda\" or \"cpu\").\n",
    "      \n",
    "    Returns:\n",
    "      A dictionary of training and testing loss as well as training and\n",
    "      testing accuracy metrics. Each metric has a value in a list for \n",
    "      each epoch.\n",
    "      In the form: {train_loss: [...],\n",
    "                train_acc: [...],\n",
    "                test_loss: [...],\n",
    "                test_acc: [...]} \n",
    "      For example if training for epochs=2: \n",
    "              {train_loss: [2.0616, 1.0537],\n",
    "                train_acc: [0.3945, 0.3945],\n",
    "                test_loss: [1.2641, 1.5706],\n",
    "                test_acc: [0.3400, 0.2973]} \n",
    "    \"\"\"\n",
    "    # Create empty results dictionary\n",
    "    results = {\"train_loss\": [],\n",
    "               \"train_acc\": [],\n",
    "               \"test_loss\": [],\n",
    "               \"test_acc\": []\n",
    "    }\n",
    "\n",
    "    # Loop through training and testing steps for a number of epochs\n",
    "    for epoch in tqdm(range(epochs)):\n",
    "        train_loss, train_acc = train_step(model=model,\n",
    "                                           dataloader=train_dataloader,\n",
    "                                           loss_fn=loss_fn,\n",
    "                                           optimizer=optimizer,\n",
    "                                           device=device)\n",
    "        test_loss, test_acc = test_step(model=model,\n",
    "                                        dataloader=test_dataloader,\n",
    "                                        loss_fn=loss_fn,\n",
    "                                        device=device)\n",
    "\n",
    "        # Print out what's happening\n",
    "        print(\n",
    "          f\"Epoch: {epoch+1} | \"\n",
    "          f\"train_loss: {train_loss:.4f} | \"\n",
    "          f\"train_acc: {train_acc:.4f} | \"\n",
    "          f\"test_loss: {test_loss:.4f} | \"\n",
    "          f\"test_acc: {test_acc:.4f}\"\n",
    "        )\n",
    "\n",
    "        # Update results dictionary\n",
    "        results[\"train_loss\"].append(train_loss)\n",
    "        results[\"train_acc\"].append(train_acc)\n",
    "        results[\"test_loss\"].append(test_loss)\n",
    "        results[\"test_acc\"].append(test_acc)\n",
    "\n",
    "        ### New: Experiment tracking ###\n",
    "        writer.add_scalars(main_tag='Loss',\n",
    "                           tag_scalar_dict={'train_loss': train_loss,\n",
    "                                            'test_loss': test_loss},\n",
    "                           global_step=epoch)\n",
    "        writer.add_scalars(main_tag='Accuracy',\n",
    "                           tag_scalar_dict={'train_acc': train_acc,\n",
    "                                            'test_acc': test_acc},\n",
    "                           global_step=epoch)\n",
    "        writer.add_graph(model=model,\n",
    "                         input_to_model=torch.randn(32, 3, 300, 300).to(device))\n",
    "    \n",
    "    # Close the writer\n",
    "    writer.close()\n",
    "    \n",
    "    ### End new ###\n",
    "\n",
    "    # Return the filled results at the end of the epochs\n",
    "    return results"
   ]
  },
  {
   "cell_type": "code",
   "execution_count": 28,
   "metadata": {},
   "outputs": [
    {
     "data": {
      "application/vnd.jupyter.widget-view+json": {
       "model_id": "14d8a8f55482470f8a537a30d86091cc",
       "version_major": 2,
       "version_minor": 0
      },
      "text/plain": [
       "  0%|          | 0/5 [00:00<?, ?it/s]"
      ]
     },
     "metadata": {},
     "output_type": "display_data"
    },
    {
     "name": "stdout",
     "output_type": "stream",
     "text": [
      "Epoch: 1 | train_loss: 0.5839 | train_acc: 0.7854 | test_loss: 0.2150 | test_acc: 0.9233\n",
      "Epoch: 2 | train_loss: 0.3738 | train_acc: 0.8750 | test_loss: 0.1503 | test_acc: 0.9625\n",
      "Epoch: 3 | train_loss: 0.3353 | train_acc: 0.8854 | test_loss: 0.1790 | test_acc: 0.9443\n",
      "Epoch: 4 | train_loss: 0.1713 | train_acc: 0.9396 | test_loss: 0.1757 | test_acc: 0.9386\n",
      "Epoch: 5 | train_loss: 0.1572 | train_acc: 0.9542 | test_loss: 0.1540 | test_acc: 0.9324\n"
     ]
    }
   ],
   "source": [
    "# Train model\n",
    "# Note: Not using engine.train() since the original script isn't updated to use writer\n",
    "set_seeds()\n",
    "results = train(model=model,\n",
    "                train_dataloader=train_dataloader,\n",
    "                test_dataloader=test_dataloader,\n",
    "                optimizer=optimizer,\n",
    "                loss_fn=loss_fn,\n",
    "                epochs=5,\n",
    "                device=device)"
   ]
  },
  {
   "cell_type": "code",
   "execution_count": 29,
   "metadata": {},
   "outputs": [
    {
     "data": {
      "text/plain": [
       "{'train_loss': [0.5839162528514862,\n",
       "  0.3737669805685679,\n",
       "  0.33530480933065215,\n",
       "  0.171268596748511,\n",
       "  0.1572177382806937],\n",
       " 'train_acc': [0.7854166666666667,\n",
       "  0.875,\n",
       "  0.8854166666666666,\n",
       "  0.9395833333333333,\n",
       "  0.9541666666666667],\n",
       " 'test_loss': [tensor(0.2150, device='cuda:0'),\n",
       "  tensor(0.1503, device='cuda:0'),\n",
       "  tensor(0.1790, device='cuda:0'),\n",
       "  tensor(0.1757, device='cuda:0'),\n",
       "  tensor(0.1540, device='cuda:0')],\n",
       " 'test_acc': [0.9232954545454545,\n",
       "  0.9625,\n",
       "  0.9443181818181818,\n",
       "  0.9386363636363637,\n",
       "  0.9323863636363636]}"
      ]
     },
     "execution_count": 29,
     "metadata": {},
     "output_type": "execute_result"
    }
   ],
   "source": [
    "results"
   ]
  },
  {
   "cell_type": "code",
   "execution_count": 31,
   "metadata": {},
   "outputs": [
    {
     "data": {
      "text/plain": [
       "Reusing TensorBoard on port 6006 (pid 13544), started 0:00:14 ago. (Use '!kill 13544' to kill it.)"
      ]
     },
     "metadata": {},
     "output_type": "display_data"
    },
    {
     "data": {
      "text/html": [
       "\n",
       "      <iframe id=\"tensorboard-frame-be202dee8fd9ed48\" width=\"100%\" height=\"800\" frameborder=\"0\">\n",
       "      </iframe>\n",
       "      <script>\n",
       "        (function() {\n",
       "          const frame = document.getElementById(\"tensorboard-frame-be202dee8fd9ed48\");\n",
       "          const url = new URL(\"http://localhost\");\n",
       "          const port = 6006;\n",
       "          if (port) {\n",
       "            url.port = port;\n",
       "          }\n",
       "          frame.src = url;\n",
       "        })();\n",
       "      </script>\n",
       "    "
      ],
      "text/plain": [
       "<IPython.core.display.HTML object>"
      ]
     },
     "metadata": {},
     "output_type": "display_data"
    }
   ],
   "source": [
    "%reload_ext tensorboard\n",
    "%tensorboard --logdir runs/Oct19_14-24-46_DESKTOP-B3R019Q"
   ]
  },
  {
   "cell_type": "code",
   "execution_count": 39,
   "metadata": {},
   "outputs": [],
   "source": [
    "from typing import List, Tuple\n",
    "\n",
    "from PIL import Image\n",
    "\n",
    "# 1. Take in a trained model, class names, image path, image size, a transform and target device\n",
    "def pred_and_plot_image(model: torch.nn.Module,\n",
    "                        image_path: str, \n",
    "                        class_names: List[str],\n",
    "                        image_size: Tuple[int, int] = (224, 224),\n",
    "                        transform: torchvision.transforms = None,\n",
    "                        device: torch.device=device):\n",
    "    \n",
    "    \n",
    "    # 2. Open image\n",
    "    img = Image.open(image_path)\n",
    "\n",
    "    # 3. Create transformation for image (if one doesn't exist)\n",
    "    if transform is not None:\n",
    "        image_transform = transform\n",
    "    else:\n",
    "        image_transform = transforms.Compose([\n",
    "            transforms.Resize(image_size),\n",
    "            transforms.ToTensor(),\n",
    "            transforms.Normalize(mean=[0.485, 0.456, 0.406],\n",
    "                                 std=[0.229, 0.224, 0.225]),\n",
    "        ])\n",
    "\n",
    "    ### Predict on image ### \n",
    "\n",
    "    # 4. Make sure the model is on the target device\n",
    "    model.to(device)\n",
    "\n",
    "    # 5. Turn on model evaluation mode and inference mode\n",
    "    model.eval()\n",
    "    with torch.inference_mode():\n",
    "      # 6. Transform and add an extra dimension to image (model requires samples in [batch_size, color_channels, height, width])\n",
    "      transformed_image = image_transform(img).unsqueeze(dim=0)\n",
    "\n",
    "      # 7. Make a prediction on image with an extra dimension and send it to the target device\n",
    "      target_image_pred = model(transformed_image.to(device))\n",
    "\n",
    "    # 8. Convert logits -> prediction probabilities (using torch.softmax() for multi-class classification)\n",
    "    target_image_pred_probs = torch.softmax(target_image_pred, dim=1)\n",
    "\n",
    "    # 9. Convert prediction probabilities -> prediction labels\n",
    "    target_image_pred_label = torch.argmax(target_image_pred_probs, dim=1)\n",
    "\n",
    "    # 10. Plot image with predicted label and probability \n",
    "    plt.figure()\n",
    "    plt.imshow(img)\n",
    "    plt.title(f\"Pred: {class_names[target_image_pred_label]} | Prob: {target_image_pred_probs.max():.3f}\")\n",
    "    plt.axis(False);"
   ]
  },
  {
   "cell_type": "code",
   "execution_count": 46,
   "metadata": {},
   "outputs": [
    {
     "data": {
      "text/plain": [
       "WindowsPath('data/pizza_steak_sushi/test/steak/86782.jpg')"
      ]
     },
     "execution_count": 46,
     "metadata": {},
     "output_type": "execute_result"
    }
   ],
   "source": [
    "image_path"
   ]
  },
  {
   "cell_type": "code",
   "execution_count": 45,
   "metadata": {},
   "outputs": [],
   "source": [
    "# Import function to make predictions on images and plot them \n",
    "# See the function previously created in section: https://www.learnpytorch.io/06_pytorch_transfer_learning/#6-make-predictions-on-images-from-the-test-set\n",
    "from pathlib import Path\n",
    "# Get a random list of 3 images from 20% test set\n",
    "import random\n",
    "num_images_to_plot = 3\n",
    "test_image_path_list = list(Path(image_path / \"test\").glob(\"*/*.jpg\")) # get all test image paths from 20% dataset\n",
    "test_image_path_sample = random.sample(population=test_image_path_list,\n",
    "                                       k=0) # randomly select k number of images\n",
    "\n",
    "# Iterate through random test image paths, make predictions on them and plot them\n",
    "for image_path in test_image_path_sample:\n",
    "    pred_and_plot_image(model=model,\n",
    "                        image_path=image_path,\n",
    "                        class_names=class_names,\n",
    "                        image_size=(224, 224))"
   ]
  }
 ],
 "metadata": {
  "kernelspec": {
   "display_name": "Python 3",
   "language": "python",
   "name": "python3"
  },
  "language_info": {
   "codemirror_mode": {
    "name": "ipython",
    "version": 3
   },
   "file_extension": ".py",
   "mimetype": "text/x-python",
   "name": "python",
   "nbconvert_exporter": "python",
   "pygments_lexer": "ipython3",
   "version": "3.12.4"
  }
 },
 "nbformat": 4,
 "nbformat_minor": 2
}
